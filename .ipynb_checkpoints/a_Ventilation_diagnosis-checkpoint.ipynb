{
 "cells": [
  {
   "cell_type": "markdown",
   "id": "52a86c2e",
   "metadata": {},
   "source": [
    "<sup>This notebook is originally from https://github.com/lizanafj/POE_techniques and licensed for reuse under [MIT license].</sup>"
   ]
  },
  {
   "cell_type": "markdown",
   "id": "bba616c4",
   "metadata": {},
   "source": [
    "# Ventilation diagnosis\n",
    "---"
   ]
  },
  {
   "cell_type": "markdown",
   "id": "5795434f",
   "metadata": {},
   "source": [
    "This notebook is part of a set of data-based fault detection and diagnosis techniques. "
   ]
  },
  {
   "cell_type": "markdown",
   "id": "cbf37923",
   "metadata": {},
   "source": [
    "Specifically, this notebook performs a **$CO_{2}$ concentration analysis to identify inappropriate ventilation periods**."
   ]
  },
  {
   "cell_type": "code",
   "execution_count": 1,
   "id": "94dd270a",
   "metadata": {},
   "outputs": [],
   "source": [
    "import os\n",
    "\n",
    "import pandas as pd\n",
    "import numpy as np \n",
    "\n",
    "import matplotlib.pyplot as plt\n",
    "import matplotlib.dates as mdates\n",
    "from matplotlib.dates import DateFormatter\n",
    "\n",
    "import datetime\n",
    "\n",
    "\n",
    "# get folder location of script\n",
    "cwd = os.getcwd()"
   ]
  },
  {
   "cell_type": "markdown",
   "id": "14332d39",
   "metadata": {},
   "source": [
    "## Import data\n",
    "---\n",
    "Import required data to perform the analysis"
   ]
  },
  {
   "cell_type": "code",
   "execution_count": 2,
   "id": "c474e032",
   "metadata": {},
   "outputs": [],
   "source": [
    "#Access to folder with data: \n",
    "os.chdir(cwd)\n",
    "cwd_data = cwd+r\"\\Data\"\n",
    "os.chdir(cwd_data)"
   ]
  },
  {
   "cell_type": "code",
   "execution_count": 3,
   "id": "2213df3a",
   "metadata": {},
   "outputs": [],
   "source": [
    "#data\n",
    "int_data=pd.read_csv('HH_Indoor_Office_CO2sensor_2.csv',sep=\";\",index_col = \"Time\", parse_dates=True).tz_localize(None)"
   ]
  },
  {
   "cell_type": "markdown",
   "id": "9f5b2a14",
   "metadata": {},
   "source": [
    "## Explore data\n",
    "---\n",
    "See variables, datetime, and data structure."
   ]
  },
  {
   "cell_type": "code",
   "execution_count": 4,
   "id": "82b18ddc",
   "metadata": {},
   "outputs": [
    {
     "data": {
      "text/html": [
       "<div>\n",
       "<style scoped>\n",
       "    .dataframe tbody tr th:only-of-type {\n",
       "        vertical-align: middle;\n",
       "    }\n",
       "\n",
       "    .dataframe tbody tr th {\n",
       "        vertical-align: top;\n",
       "    }\n",
       "\n",
       "    .dataframe thead th {\n",
       "        text-align: right;\n",
       "    }\n",
       "</style>\n",
       "<table border=\"1\" class=\"dataframe\">\n",
       "  <thead>\n",
       "    <tr style=\"text-align: right;\">\n",
       "      <th></th>\n",
       "      <th>Temp</th>\n",
       "      <th>RH</th>\n",
       "      <th>CO2</th>\n",
       "    </tr>\n",
       "    <tr>\n",
       "      <th>Time</th>\n",
       "      <th></th>\n",
       "      <th></th>\n",
       "      <th></th>\n",
       "    </tr>\n",
       "  </thead>\n",
       "  <tbody>\n",
       "    <tr>\n",
       "      <th>2022-05-06 11:00:00</th>\n",
       "      <td>25.817000</td>\n",
       "      <td>55.240000</td>\n",
       "      <td>455.955000</td>\n",
       "    </tr>\n",
       "    <tr>\n",
       "      <th>2022-05-06 12:00:00</th>\n",
       "      <td>25.457500</td>\n",
       "      <td>54.989250</td>\n",
       "      <td>416.655500</td>\n",
       "    </tr>\n",
       "    <tr>\n",
       "      <th>2022-05-06 13:00:00</th>\n",
       "      <td>25.333333</td>\n",
       "      <td>52.857667</td>\n",
       "      <td>400.155333</td>\n",
       "    </tr>\n",
       "    <tr>\n",
       "      <th>2022-05-06 14:00:00</th>\n",
       "      <td>25.629750</td>\n",
       "      <td>47.698000</td>\n",
       "      <td>413.641500</td>\n",
       "    </tr>\n",
       "    <tr>\n",
       "      <th>2022-05-06 15:00:00</th>\n",
       "      <td>25.743750</td>\n",
       "      <td>44.170500</td>\n",
       "      <td>402.409250</td>\n",
       "    </tr>\n",
       "  </tbody>\n",
       "</table>\n",
       "</div>"
      ],
      "text/plain": [
       "                          Temp         RH         CO2\n",
       "Time                                                 \n",
       "2022-05-06 11:00:00  25.817000  55.240000  455.955000\n",
       "2022-05-06 12:00:00  25.457500  54.989250  416.655500\n",
       "2022-05-06 13:00:00  25.333333  52.857667  400.155333\n",
       "2022-05-06 14:00:00  25.629750  47.698000  413.641500\n",
       "2022-05-06 15:00:00  25.743750  44.170500  402.409250"
      ]
     },
     "execution_count": 4,
     "metadata": {},
     "output_type": "execute_result"
    }
   ],
   "source": [
    "#See dataframe\n",
    "int_data.head()"
   ]
  },
  {
   "cell_type": "code",
   "execution_count": 5,
   "id": "9c92b10e",
   "metadata": {},
   "outputs": [
    {
     "data": {
      "text/plain": [
       "<AxesSubplot:xlabel='Time'>"
      ]
     },
     "execution_count": 5,
     "metadata": {},
     "output_type": "execute_result"
    },
    {
     "data": {
      "image/png": "[encoded data removed]",
      "text/plain": [
       "<Figure size 432x288 with 1 Axes>"
      ]
     },
     "metadata": {
      "needs_background": "light"
     },
     "output_type": "display_data"
    }
   ],
   "source": [
    "#Visualise variable\n",
    "int_data.plot()"
   ]
  },
  {
   "cell_type": "markdown",
   "id": "dfc771e7",
   "metadata": {},
   "source": [
    "## Data pre-processing\n",
    "---\n",
    "\n",
    "Filtering and cleaning steps before the analysis \n"
   ]
  },
  {
   "cell_type": "code",
   "execution_count": 6,
   "id": "2808018a",
   "metadata": {},
   "outputs": [],
   "source": [
    "#truncate timeframe\n",
    "int_data = int_data.truncate(before=\"2022-10-01\",after=\"2023-03-31\")"
   ]
  },
  {
   "cell_type": "code",
   "execution_count": 24,
   "id": "38bfc713",
   "metadata": {},
   "outputs": [],
   "source": [
    "#Auxiliar variables\n",
    "int_data[\"week_day\"] = int_data.index.dayofweek\n",
    "int_data[\"hour_day\"] = int_data.index.hour\n",
    "int_data[\"occupancy\"] = np.where((int_data[\"hour_day\"] > 8) & (int_data[\"hour_day\"] < 18) & (int_data[\"week_day\"]<5), 1, 0)"
   ]
  },
  {
   "cell_type": "code",
   "execution_count": 25,
   "id": "0fc20318",
   "metadata": {},
   "outputs": [
    {
     "data": {
      "text/html": [
       "<div>\n",
       "<style scoped>\n",
       "    .dataframe tbody tr th:only-of-type {\n",
       "        vertical-align: middle;\n",
       "    }\n",
       "\n",
       "    .dataframe tbody tr th {\n",
       "        vertical-align: top;\n",
       "    }\n",
       "\n",
       "    .dataframe thead th {\n",
       "        text-align: right;\n",
       "    }\n",
       "</style>\n",
       "<table border=\"1\" class=\"dataframe\">\n",
       "  <thead>\n",
       "    <tr style=\"text-align: right;\">\n",
       "      <th></th>\n",
       "      <th>Temp</th>\n",
       "      <th>RH</th>\n",
       "      <th>CO2</th>\n",
       "      <th>week_day</th>\n",
       "      <th>hour_day</th>\n",
       "      <th>occupancy</th>\n",
       "      <th>discomfort</th>\n",
       "    </tr>\n",
       "    <tr>\n",
       "      <th>Time</th>\n",
       "      <th></th>\n",
       "      <th></th>\n",
       "      <th></th>\n",
       "      <th></th>\n",
       "      <th></th>\n",
       "      <th></th>\n",
       "      <th></th>\n",
       "    </tr>\n",
       "  </thead>\n",
       "  <tbody>\n",
       "    <tr>\n",
       "      <th>2022-10-01 00:00:00</th>\n",
       "      <td>19.45600</td>\n",
       "      <td>55.26400</td>\n",
       "      <td>557.13250</td>\n",
       "      <td>5</td>\n",
       "      <td>0</td>\n",
       "      <td>0</td>\n",
       "      <td>0</td>\n",
       "    </tr>\n",
       "    <tr>\n",
       "      <th>2022-10-01 01:00:00</th>\n",
       "      <td>19.25100</td>\n",
       "      <td>55.16175</td>\n",
       "      <td>536.89675</td>\n",
       "      <td>5</td>\n",
       "      <td>1</td>\n",
       "      <td>0</td>\n",
       "      <td>0</td>\n",
       "    </tr>\n",
       "    <tr>\n",
       "      <th>2022-10-01 02:00:00</th>\n",
       "      <td>19.03275</td>\n",
       "      <td>55.10025</td>\n",
       "      <td>525.16700</td>\n",
       "      <td>5</td>\n",
       "      <td>2</td>\n",
       "      <td>0</td>\n",
       "      <td>0</td>\n",
       "    </tr>\n",
       "    <tr>\n",
       "      <th>2022-10-01 03:00:00</th>\n",
       "      <td>18.91325</td>\n",
       "      <td>55.14500</td>\n",
       "      <td>506.85200</td>\n",
       "      <td>5</td>\n",
       "      <td>3</td>\n",
       "      <td>0</td>\n",
       "      <td>0</td>\n",
       "    </tr>\n",
       "    <tr>\n",
       "      <th>2022-10-01 04:00:00</th>\n",
       "      <td>18.78700</td>\n",
       "      <td>55.28725</td>\n",
       "      <td>493.53125</td>\n",
       "      <td>5</td>\n",
       "      <td>4</td>\n",
       "      <td>0</td>\n",
       "      <td>0</td>\n",
       "    </tr>\n",
       "  </tbody>\n",
       "</table>\n",
       "</div>"
      ],
      "text/plain": [
       "                         Temp        RH        CO2  week_day  hour_day  \\\n",
       "Time                                                                     \n",
       "2022-10-01 00:00:00  19.45600  55.26400  557.13250         5         0   \n",
       "2022-10-01 01:00:00  19.25100  55.16175  536.89675         5         1   \n",
       "2022-10-01 02:00:00  19.03275  55.10025  525.16700         5         2   \n",
       "2022-10-01 03:00:00  18.91325  55.14500  506.85200         5         3   \n",
       "2022-10-01 04:00:00  18.78700  55.28725  493.53125         5         4   \n",
       "\n",
       "                     occupancy  discomfort  \n",
       "Time                                        \n",
       "2022-10-01 00:00:00          0           0  \n",
       "2022-10-01 01:00:00          0           0  \n",
       "2022-10-01 02:00:00          0           0  \n",
       "2022-10-01 03:00:00          0           0  \n",
       "2022-10-01 04:00:00          0           0  "
      ]
     },
     "execution_count": 25,
     "metadata": {},
     "output_type": "execute_result"
    }
   ],
   "source": [
    "int_data.head()"
   ]
  },
  {
   "cell_type": "markdown",
   "id": "390a32ee",
   "metadata": {},
   "source": [
    "## Data diagnosis\n",
    "---\n",
    "Identification of inappropriate indoor air quality periods, with CO2 above 1000ppm"
   ]
  },
  {
   "cell_type": "code",
   "execution_count": 26,
   "id": "54154915",
   "metadata": {},
   "outputs": [],
   "source": [
    "#Select only data associated with working hours\n",
    "int_data_sel = int_data[(int_data[\"occupancy\"]==1)]"
   ]
  },
  {
   "cell_type": "code",
   "execution_count": 30,
   "id": "31ecef9c",
   "metadata": {
    "scrolled": true
   },
   "outputs": [
    {
     "data": {
      "image/png": "[encoded data removed]",
      "text/plain": [
       "<Figure size 432x288 with 1 Axes>"
      ]
     },
     "metadata": {
      "needs_background": "light"
     },
     "output_type": "display_data"
    }
   ],
   "source": [
    "#Plot data distribution during working hours - histogram\n",
    "fig=plt.figure()\n",
    "ax=fig.add_axes([0,0,1,0.8])\n",
    "\n",
    "ax.hist(int_data_sel[\"CO2\"],bins=10,range=(400,1500),color=\"b\",label=\"Working hours\")\n",
    "\n",
    "ax.set_xlabel('$CO_{2}$ concentrations (ppm)')\n",
    "ax.set_ylabel('Number of hours')\n",
    "ax.set_title('Diagnosis of indoor ventilation - Histogram')\n",
    "ax.legend()\n",
    "\n",
    "plt.axvline(x=1000, color='r', linestyle='--')\n",
    "\n",
    "plt.show()"
   ]
  },
  {
   "cell_type": "code",
   "execution_count": 28,
   "id": "e34a04e0",
   "metadata": {},
   "outputs": [],
   "source": [
    "#Statistics\n",
    "int_data[\"discomfort\"] = np.where((int_data[\"CO2\"]>1000) & (int_data[\"occupancy\"]==1), 1, 0)\n",
    "\n",
    "bad_ventilation = int_data[\"discomfort\"].values.sum()/int_data[\"occupancy\"].values.sum()"
   ]
  },
  {
   "cell_type": "code",
   "execution_count": 29,
   "id": "51b54cc3",
   "metadata": {},
   "outputs": [
    {
     "name": "stdout",
     "output_type": "stream",
     "text": [
      "Percentage of time with CO2 > 1000:  10.51 %\n"
     ]
    }
   ],
   "source": [
    "print(\"Percentage of time with CO2 > 1000: \",round(bad_ventilation,4)*100,\"%\")"
   ]
  }
 ],
 "metadata": {
  "kernelspec": {
   "display_name": "Python 3 (ipykernel)",
   "language": "python",
   "name": "python3"
  },
  "language_info": {
   "codemirror_mode": {
    "name": "ipython",
    "version": 3
   },
   "file_extension": ".py",
   "mimetype": "text/x-python",
   "name": "python",
   "nbconvert_exporter": "python",
   "pygments_lexer": "ipython3",
   "version": "3.9.7"
  }
 },
 "nbformat": 4,
 "nbformat_minor": 5
}
