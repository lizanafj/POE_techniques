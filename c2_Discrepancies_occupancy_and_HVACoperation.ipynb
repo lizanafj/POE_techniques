{
 "cells": [
  {
   "cell_type": "markdown",
   "id": "52a86c2e",
   "metadata": {},
   "source": [
    "<sup>This notebook is originally from https://github.com/lizanafj/POE_techniques and licensed for reuse under [MIT license].</sup>"
   ]
  },
  {
   "cell_type": "markdown",
   "id": "bba616c4",
   "metadata": {},
   "source": [
    "# Discrepancies between occupancy and HVAC operation\n",
    "---"
   ]
  },
  {
   "cell_type": "markdown",
   "id": "5795434f",
   "metadata": {},
   "source": [
    "This notebook is part of a set of data-based fault detection and diagnosis techniques. "
   ]
  },
  {
   "cell_type": "markdown",
   "id": "cbf37923",
   "metadata": {},
   "source": [
    "Specifically, this notebook performs an **evaluation of the real building occupancy**. It quantifies the percentage of time with real occupancy in the building per working hour. "
   ]
  },
  {
   "cell_type": "code",
   "execution_count": 1,
   "id": "94dd270a",
   "metadata": {},
   "outputs": [],
   "source": [
    "import os\n",
    "\n",
    "import pandas as pd\n",
    "import numpy as np \n",
    "\n",
    "import matplotlib.pyplot as plt\n",
    "import matplotlib.dates as mdates\n",
    "from matplotlib.dates import DateFormatter\n",
    "\n",
    "import datetime\n",
    "\n",
    "\n",
    "# get folder location of script\n",
    "cwd = os.getcwd()"
   ]
  },
  {
   "cell_type": "markdown",
   "id": "14332d39",
   "metadata": {},
   "source": [
    "## Import data\n",
    "---\n",
    "Import required data to perform the analysis"
   ]
  },
  {
   "cell_type": "code",
   "execution_count": 2,
   "id": "c474e032",
   "metadata": {},
   "outputs": [],
   "source": [
    "#Access to folder with data: \n",
    "os.chdir(cwd)\n",
    "cwd_data = cwd+r\"\\Data\"\n",
    "os.chdir(cwd_data)"
   ]
  },
  {
   "cell_type": "code",
   "execution_count": 3,
   "id": "2213df3a",
   "metadata": {},
   "outputs": [],
   "source": [
    "#data\n",
    "data = pd.read_csv('HH_Indoor_Office_IEQsensor_3.csv',sep=\";\",index_col = \"Time\", parse_dates=True).tz_localize(None)\n",
    "data = data.sort_index()"
   ]
  },
  {
   "cell_type": "markdown",
   "id": "9f5b2a14",
   "metadata": {},
   "source": [
    "## Explore data\n",
    "---\n",
    "See variables, datetime, and data structure."
   ]
  },
  {
   "cell_type": "code",
   "execution_count": 4,
   "id": "82b18ddc",
   "metadata": {},
   "outputs": [
    {
     "data": {
      "text/html": [
       "<div>\n",
       "<style scoped>\n",
       "    .dataframe tbody tr th:only-of-type {\n",
       "        vertical-align: middle;\n",
       "    }\n",
       "\n",
       "    .dataframe tbody tr th {\n",
       "        vertical-align: top;\n",
       "    }\n",
       "\n",
       "    .dataframe thead th {\n",
       "        text-align: right;\n",
       "    }\n",
       "</style>\n",
       "<table border=\"1\" class=\"dataframe\">\n",
       "  <thead>\n",
       "    <tr style=\"text-align: right;\">\n",
       "      <th></th>\n",
       "      <th>CO2</th>\n",
       "      <th>H</th>\n",
       "      <th>LUX</th>\n",
       "      <th>PIR</th>\n",
       "      <th>RAD</th>\n",
       "      <th>T</th>\n",
       "      <th>WIND</th>\n",
       "    </tr>\n",
       "    <tr>\n",
       "      <th>Time</th>\n",
       "      <th></th>\n",
       "      <th></th>\n",
       "      <th></th>\n",
       "      <th></th>\n",
       "      <th></th>\n",
       "      <th></th>\n",
       "      <th></th>\n",
       "    </tr>\n",
       "  </thead>\n",
       "  <tbody>\n",
       "    <tr>\n",
       "      <th>2022-01-12 00:04:00</th>\n",
       "      <td>941</td>\n",
       "      <td>35.20</td>\n",
       "      <td>0</td>\n",
       "      <td>0.0</td>\n",
       "      <td>19.82</td>\n",
       "      <td>21.49</td>\n",
       "      <td>0.09</td>\n",
       "    </tr>\n",
       "    <tr>\n",
       "      <th>2022-01-12 00:09:00</th>\n",
       "      <td>936</td>\n",
       "      <td>35.19</td>\n",
       "      <td>0</td>\n",
       "      <td>0.0</td>\n",
       "      <td>19.82</td>\n",
       "      <td>21.48</td>\n",
       "      <td>0.08</td>\n",
       "    </tr>\n",
       "    <tr>\n",
       "      <th>2022-01-12 00:14:00</th>\n",
       "      <td>932</td>\n",
       "      <td>35.23</td>\n",
       "      <td>0</td>\n",
       "      <td>0.0</td>\n",
       "      <td>19.83</td>\n",
       "      <td>21.45</td>\n",
       "      <td>0.09</td>\n",
       "    </tr>\n",
       "    <tr>\n",
       "      <th>2022-01-12 00:19:00</th>\n",
       "      <td>931</td>\n",
       "      <td>35.18</td>\n",
       "      <td>0</td>\n",
       "      <td>0.0</td>\n",
       "      <td>19.82</td>\n",
       "      <td>21.45</td>\n",
       "      <td>0.09</td>\n",
       "    </tr>\n",
       "    <tr>\n",
       "      <th>2022-01-12 00:24:00</th>\n",
       "      <td>925</td>\n",
       "      <td>35.19</td>\n",
       "      <td>0</td>\n",
       "      <td>0.0</td>\n",
       "      <td>19.80</td>\n",
       "      <td>21.43</td>\n",
       "      <td>0.08</td>\n",
       "    </tr>\n",
       "  </tbody>\n",
       "</table>\n",
       "</div>"
      ],
      "text/plain": [
       "                     CO2      H  LUX  PIR    RAD      T  WIND\n",
       "Time                                                         \n",
       "2022-01-12 00:04:00  941  35.20    0  0.0  19.82  21.49  0.09\n",
       "2022-01-12 00:09:00  936  35.19    0  0.0  19.82  21.48  0.08\n",
       "2022-01-12 00:14:00  932  35.23    0  0.0  19.83  21.45  0.09\n",
       "2022-01-12 00:19:00  931  35.18    0  0.0  19.82  21.45  0.09\n",
       "2022-01-12 00:24:00  925  35.19    0  0.0  19.80  21.43  0.08"
      ]
     },
     "execution_count": 4,
     "metadata": {},
     "output_type": "execute_result"
    }
   ],
   "source": [
    "#See dataframe\n",
    "data.head()"
   ]
  },
  {
   "cell_type": "code",
   "execution_count": 5,
   "id": "9c92b10e",
   "metadata": {},
   "outputs": [
    {
     "data": {
      "text/plain": [
       "<AxesSubplot:xlabel='Time'>"
      ]
     },
     "execution_count": 5,
     "metadata": {},
     "output_type": "execute_result"
    },
    {
     "data": {
      "image/png": "[encoded data removed]",
      "text/plain": [
       "<Figure size 432x288 with 1 Axes>"
      ]
     },
     "metadata": {
      "needs_background": "light"
     },
     "output_type": "display_data"
    }
   ],
   "source": [
    "#Visualise variables\n",
    "data.plot()"
   ]
  },
  {
   "cell_type": "markdown",
   "id": "dfc771e7",
   "metadata": {},
   "source": [
    "## Data pre-processing\n",
    "---\n",
    "\n",
    "Filtering and cleaning steps before the analysis \n"
   ]
  },
  {
   "cell_type": "code",
   "execution_count": 6,
   "id": "2808018a",
   "metadata": {},
   "outputs": [],
   "source": [
    "#truncate timeframe\n",
    "data = data.truncate(before=\"2022-12-01\",after=\"2023-02-28 23:00\")"
   ]
  },
  {
   "cell_type": "code",
   "execution_count": 7,
   "id": "1bfaa994",
   "metadata": {},
   "outputs": [],
   "source": [
    "#Data selection\n",
    "data1 = data[[\"PIR\",\"LUX\"]]"
   ]
  },
  {
   "cell_type": "code",
   "execution_count": 8,
   "id": "4ba13262",
   "metadata": {},
   "outputs": [],
   "source": [
    "#Data resample - hourly mean\n",
    "data2 = data1.resample(\"1H\").mean()\n",
    "\n",
    "#For the motion sensor (PIR), we want the sum per hour, not the mean - So, we replace the time series data\n",
    "data2[\"PIR\"] = data1[\"PIR\"].resample(\"1H\").sum()"
   ]
  },
  {
   "cell_type": "code",
   "execution_count": 9,
   "id": "0fc20318",
   "metadata": {},
   "outputs": [
    {
     "data": {
      "text/html": [
       "<div>\n",
       "<style scoped>\n",
       "    .dataframe tbody tr th:only-of-type {\n",
       "        vertical-align: middle;\n",
       "    }\n",
       "\n",
       "    .dataframe tbody tr th {\n",
       "        vertical-align: top;\n",
       "    }\n",
       "\n",
       "    .dataframe thead th {\n",
       "        text-align: right;\n",
       "    }\n",
       "</style>\n",
       "<table border=\"1\" class=\"dataframe\">\n",
       "  <thead>\n",
       "    <tr style=\"text-align: right;\">\n",
       "      <th></th>\n",
       "      <th>PIR</th>\n",
       "      <th>LUX</th>\n",
       "    </tr>\n",
       "    <tr>\n",
       "      <th>Time</th>\n",
       "      <th></th>\n",
       "      <th></th>\n",
       "    </tr>\n",
       "  </thead>\n",
       "  <tbody>\n",
       "    <tr>\n",
       "      <th>2022-12-12 00:00:00</th>\n",
       "      <td>0.0</td>\n",
       "      <td>0.0</td>\n",
       "    </tr>\n",
       "    <tr>\n",
       "      <th>2022-12-12 01:00:00</th>\n",
       "      <td>0.0</td>\n",
       "      <td>0.0</td>\n",
       "    </tr>\n",
       "    <tr>\n",
       "      <th>2022-12-12 02:00:00</th>\n",
       "      <td>0.0</td>\n",
       "      <td>0.0</td>\n",
       "    </tr>\n",
       "    <tr>\n",
       "      <th>2022-12-12 03:00:00</th>\n",
       "      <td>0.0</td>\n",
       "      <td>0.0</td>\n",
       "    </tr>\n",
       "    <tr>\n",
       "      <th>2022-12-12 04:00:00</th>\n",
       "      <td>0.0</td>\n",
       "      <td>0.0</td>\n",
       "    </tr>\n",
       "  </tbody>\n",
       "</table>\n",
       "</div>"
      ],
      "text/plain": [
       "                     PIR  LUX\n",
       "Time                         \n",
       "2022-12-12 00:00:00  0.0  0.0\n",
       "2022-12-12 01:00:00  0.0  0.0\n",
       "2022-12-12 02:00:00  0.0  0.0\n",
       "2022-12-12 03:00:00  0.0  0.0\n",
       "2022-12-12 04:00:00  0.0  0.0"
      ]
     },
     "execution_count": 9,
     "metadata": {},
     "output_type": "execute_result"
    }
   ],
   "source": [
    "data2.head()"
   ]
  },
  {
   "cell_type": "code",
   "execution_count": 10,
   "id": "ba6441c9",
   "metadata": {},
   "outputs": [
    {
     "data": {
      "text/plain": [
       "<AxesSubplot:xlabel='Time'>"
      ]
     },
     "execution_count": 10,
     "metadata": {},
     "output_type": "execute_result"
    },
    {
     "data": {
      "image/png": "[encoded data removed]",
      "text/plain": [
       "<Figure size 432x288 with 1 Axes>"
      ]
     },
     "metadata": {
      "needs_background": "light"
     },
     "output_type": "display_data"
    }
   ],
   "source": [
    "data2[[\"LUX\",\"PIR\"]].plot()"
   ]
  },
  {
   "cell_type": "code",
   "execution_count": 11,
   "id": "38bfc713",
   "metadata": {},
   "outputs": [],
   "source": [
    "#Auxiliar variables\n",
    "data2[\"week_day\"] = data2.index.dayofweek\n",
    "data2[\"hour_day\"] = data2.index.hour\n",
    "data2[\"occupancy\"] = np.where((data2[\"hour_day\"] > 8) & (data2[\"hour_day\"] < 19) & (data2[\"week_day\"]<5), 1, 0)\n",
    "data2[\"real_occupancy\"] = np.where((data2[\"hour_day\"] > 8) & (data2[\"hour_day\"] < 19) & (data2[\"week_day\"]<5) & (data2[\"PIR\"]>0.5), 1, 0)\n",
    "data2[\"non_occupancy\"] = np.where((data2[\"hour_day\"] > 8) & (data2[\"hour_day\"] < 19) & (data2[\"week_day\"]<5) & (data2[\"PIR\"]<0.5) , 1, 0)"
   ]
  },
  {
   "cell_type": "markdown",
   "id": "390a32ee",
   "metadata": {},
   "source": [
    "## Data diagnosis\n",
    "---\n",
    "Diagnosis of building occupancy"
   ]
  },
  {
   "cell_type": "code",
   "execution_count": 13,
   "id": "7533d83b",
   "metadata": {},
   "outputs": [],
   "source": [
    "#Analysis\n",
    "\n",
    "#Real occupancy according to motion sensor\n",
    "data_pir = data2[[\"real_occupancy\",\"hour_day\"]].reset_index(drop=True)\n",
    "data_pir = data_pir.groupby([\"hour_day\"]).sum()\n",
    "\n",
    "#Expected occupancy according to working hours\n",
    "data_occ = data2[[\"occupancy\",\"hour_day\"]].reset_index(drop=True)\n",
    "data_occ = data_occ.groupby([\"hour_day\"]).sum()"
   ]
  },
  {
   "cell_type": "code",
   "execution_count": 14,
   "id": "e96e57e6",
   "metadata": {},
   "outputs": [],
   "source": [
    "#Percentage of working hours with activity/occupancy\n",
    "data_t = pd.concat([data_pir,data_occ],axis=1)\n",
    "data_t[\"diff\"] = data_t[\"real_occupancy\"]/data_t[\"occupancy\"]*100\n",
    "\n",
    "data_t = data_t.fillna(0)"
   ]
  },
  {
   "cell_type": "code",
   "execution_count": 15,
   "id": "e34a04e0",
   "metadata": {},
   "outputs": [
    {
     "data": {
      "image/png": "[encoded data removed]",
      "text/plain": [
       "<Figure size 432x288 with 1 Axes>"
      ]
     },
     "metadata": {
      "needs_background": "light"
     },
     "output_type": "display_data"
    }
   ],
   "source": [
    "#Visualisation\n",
    "fig=plt.figure()\n",
    "ax=fig.add_axes([0,0,1,0.8])\n",
    "\n",
    "ax.bar(data_t.index, data_t[\"diff\"],color=\"b\",label=\"Working hours with PIR motion sensor activity\")\n",
    "\n",
    "ax.set_xlabel('Daily hours')\n",
    "ax.set_ylabel('Percentage of hours')\n",
    "ax.set_title('Diagnosis of real occupancy hours')\n",
    "ax.xaxis.set_ticks(np.arange(0, 24, 1))\n",
    "ax.set_ylim(0,60)\n",
    "ax.margins(x=0.01)\n",
    "ax.legend(loc=2)\n",
    "\n",
    "\n",
    "plt.show()"
   ]
  },
  {
   "cell_type": "code",
   "execution_count": 16,
   "id": "51b54cc3",
   "metadata": {},
   "outputs": [
    {
     "name": "stdout",
     "output_type": "stream",
     "text": [
      "Total working hours during the timeframe selected : 570\n",
      "Average percentage of working hours with occupancy:  35.61 %\n"
     ]
    }
   ],
   "source": [
    "print(\"Total working hours during the timeframe selected :\", data2[\"occupancy\"].sum())\n",
    "print(\"Average percentage of working hours with occupancy: \", round(data2[\"real_occupancy\"].sum()/data2[\"occupancy\"].sum()*100,2),\"%\")"
   ]
  },
  {
   "cell_type": "code",
   "execution_count": null,
   "id": "8272eaee",
   "metadata": {},
   "outputs": [],
   "source": []
  }
 ],
 "metadata": {
  "kernelspec": {
   "display_name": "Python 3 (ipykernel)",
   "language": "python",
   "name": "python3"
  },
  "language_info": {
   "codemirror_mode": {
    "name": "ipython",
    "version": 3
   },
   "file_extension": ".py",
   "mimetype": "text/x-python",
   "name": "python",
   "nbconvert_exporter": "python",
   "pygments_lexer": "ipython3",
   "version": "3.9.7"
  }
 },
 "nbformat": 4,
 "nbformat_minor": 5
}
